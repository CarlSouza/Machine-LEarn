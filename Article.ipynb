{
 "cells": [
  {
   "attachments": {},
   "cell_type": "markdown",
   "metadata": {},
   "source": [
    "# Disentangled Representation: A Review of Methods and Applications\n",
    "\n",
    "Grupo: CARJ\n",
    "\n",
    "Estudantes: Ademir Tomaz, Carlos Souza, Juliana Carvalho, Raphael Levy\n"
   ]
  },
  {
   "attachments": {},
   "cell_type": "markdown",
   "metadata": {},
   "source": [
    "# Introdução\n"
   ]
  },
  {
   "attachments": {},
   "cell_type": "markdown",
   "metadata": {},
   "source": [
    "## 1. Quais problemas resolver?"
   ]
  },
  {
   "attachments": {},
   "cell_type": "markdown",
   "metadata": {},
   "source": [
    "## 2. Como funciona? / 2) Fundamentação Teorica\n",
    "\n",
    "- Definição e princípios dos autoencoders\n",
    "- Arquitetura básica de um autoencoder\n",
    "- Função de custo e algoritmo de treinamento"
   ]
  },
  {
   "attachments": {},
   "cell_type": "markdown",
   "metadata": {},
   "source": [
    "### 2.1 Math for AutoEnconder"
   ]
  },
  {
   "attachments": {},
   "cell_type": "markdown",
   "metadata": {},
   "source": [
    "## 3. Quando funciona bem e quando não funciona?"
   ]
  },
  {
   "attachments": {},
   "cell_type": "markdown",
   "metadata": {},
   "source": [
    "## 4. Aplicações dos Autoencoders\n",
    "\n",
    "- Redução de dimensionalidade\n",
    "- Reconstrução de dados\n",
    "- Geração de dados\n",
    "- Anomalia detecção\n",
    "- Disentangled representation (Representação Desemaranhada)"
   ]
  },
  {
   "attachments": {},
   "cell_type": "markdown",
   "metadata": {},
   "source": [
    "## 3. Variantes de Autoencoders\n",
    "\n",
    "- Variational Autoencoders (VAE)\n",
    "- Denoising Autoencoders (DAE)\n",
    "- Sparse Autoencoders\n",
    "- Outras variantes relevantes"
   ]
  },
  {
   "attachments": {},
   "cell_type": "markdown",
   "metadata": {},
   "source": [
    "## 4.4. Disentangled representation"
   ]
  },
  {
   "attachments": {},
   "cell_type": "markdown",
   "metadata": {},
   "source": [
    "## 5. Experimentos e Resultados\n",
    "- Descrição dos conjuntos de dados utilizados\n",
    "- Metodologia experimental\n",
    "- Análise comparativa dos resultados obtidos"
   ]
  },
  {
   "attachments": {},
   "cell_type": "markdown",
   "metadata": {},
   "source": [
    "## 6. Discussão\n",
    "- Análise crítica dos resultados\n",
    "- Limitações e desafios dos autoencoders (disentangled representation. )\n",
    "- Possíveis melhorias e direções futuras"
   ]
  }
 ],
 "metadata": {
  "language_info": {
   "name": "python"
  },
  "orig_nbformat": 4
 },
 "nbformat": 4,
 "nbformat_minor": 2
}
