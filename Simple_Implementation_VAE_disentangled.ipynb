{
 "cells": [
  {
   "cell_type": "code",
   "execution_count": 1,
   "metadata": {},
   "outputs": [],
   "source": [
    "import torch\n",
    "import torch.nn as nn\n",
    "import torch.optim as optim\n",
    "import torch.nn.functional as F\n",
    "from torchvision import datasets, transforms"
   ]
  },
  {
   "cell_type": "code",
   "execution_count": 2,
   "metadata": {},
   "outputs": [
    {
     "name": "stdout",
     "output_type": "stream",
     "text": [
      "Downloading http://yann.lecun.com/exdb/mnist/train-images-idx3-ubyte.gz\n",
      "Downloading http://yann.lecun.com/exdb/mnist/train-images-idx3-ubyte.gz to ./data\\MNIST\\raw\\train-images-idx3-ubyte.gz\n"
     ]
    },
    {
     "name": "stderr",
     "output_type": "stream",
     "text": [
      "100%|██████████| 9912422/9912422 [00:07<00:00, 1260805.10it/s]\n"
     ]
    },
    {
     "name": "stdout",
     "output_type": "stream",
     "text": [
      "Extracting ./data\\MNIST\\raw\\train-images-idx3-ubyte.gz to ./data\\MNIST\\raw\n",
      "\n",
      "Downloading http://yann.lecun.com/exdb/mnist/train-labels-idx1-ubyte.gz\n",
      "Downloading http://yann.lecun.com/exdb/mnist/train-labels-idx1-ubyte.gz to ./data\\MNIST\\raw\\train-labels-idx1-ubyte.gz\n"
     ]
    },
    {
     "name": "stderr",
     "output_type": "stream",
     "text": [
      "100%|██████████| 28881/28881 [00:00<?, ?it/s]"
     ]
    },
    {
     "name": "stdout",
     "output_type": "stream",
     "text": [
      "Extracting ./data\\MNIST\\raw\\train-labels-idx1-ubyte.gz to ./data\\MNIST\\raw\n"
     ]
    },
    {
     "name": "stderr",
     "output_type": "stream",
     "text": [
      "\n"
     ]
    },
    {
     "name": "stdout",
     "output_type": "stream",
     "text": [
      "\n",
      "Downloading http://yann.lecun.com/exdb/mnist/t10k-images-idx3-ubyte.gz\n",
      "Downloading http://yann.lecun.com/exdb/mnist/t10k-images-idx3-ubyte.gz to ./data\\MNIST\\raw\\t10k-images-idx3-ubyte.gz\n"
     ]
    },
    {
     "name": "stderr",
     "output_type": "stream",
     "text": [
      "100%|██████████| 1648877/1648877 [00:01<00:00, 1296517.98it/s]\n"
     ]
    },
    {
     "name": "stdout",
     "output_type": "stream",
     "text": [
      "Extracting ./data\\MNIST\\raw\\t10k-images-idx3-ubyte.gz to ./data\\MNIST\\raw\n",
      "\n",
      "Downloading http://yann.lecun.com/exdb/mnist/t10k-labels-idx1-ubyte.gz\n",
      "Downloading http://yann.lecun.com/exdb/mnist/t10k-labels-idx1-ubyte.gz to ./data\\MNIST\\raw\\t10k-labels-idx1-ubyte.gz\n"
     ]
    },
    {
     "name": "stderr",
     "output_type": "stream",
     "text": [
      "100%|██████████| 4542/4542 [00:00<?, ?it/s]\n"
     ]
    },
    {
     "name": "stdout",
     "output_type": "stream",
     "text": [
      "Extracting ./data\\MNIST\\raw\\t10k-labels-idx1-ubyte.gz to ./data\\MNIST\\raw\n",
      "\n",
      "Epoch [1/10], Batch [1/469], Loss: 70227.3906\n",
      "Epoch [1/10], Batch [101/469], Loss: -2365557.7500\n",
      "Epoch [1/10], Batch [201/469], Loss: -2497822.7500\n",
      "Epoch [1/10], Batch [301/469], Loss: -2744792.7500\n",
      "Epoch [1/10], Batch [401/469], Loss: -2805517.7500\n",
      "Epoch [1/10], Average Loss: -2540833.1669\n",
      "Epoch [2/10], Batch [1/469], Loss: -2872397.0000\n",
      "Epoch [2/10], Batch [101/469], Loss: -3277094.0000\n",
      "Epoch [2/10], Batch [201/469], Loss: -3411370.2500\n",
      "Epoch [2/10], Batch [301/469], Loss: -3724626.7500\n",
      "Epoch [2/10], Batch [401/469], Loss: -4023608.0000\n",
      "Epoch [2/10], Average Loss: -3594711.4947\n",
      "Epoch [3/10], Batch [1/469], Loss: -3992253.2500\n",
      "Epoch [3/10], Batch [101/469], Loss: -4178103.2500\n",
      "Epoch [3/10], Batch [201/469], Loss: -4611663.0000\n",
      "Epoch [3/10], Batch [301/469], Loss: -4585065.0000\n",
      "Epoch [3/10], Batch [401/469], Loss: -4743047.5000\n",
      "Epoch [3/10], Average Loss: -4578719.1119\n",
      "Epoch [4/10], Batch [1/469], Loss: -5054668.5000\n",
      "Epoch [4/10], Batch [101/469], Loss: -5087439.0000\n",
      "Epoch [4/10], Batch [201/469], Loss: -5219766.5000\n",
      "Epoch [4/10], Batch [301/469], Loss: -5046000.5000\n",
      "Epoch [4/10], Batch [401/469], Loss: -5183530.5000\n",
      "Epoch [4/10], Average Loss: -5115208.2319\n",
      "Epoch [5/10], Batch [1/469], Loss: -5240879.0000\n",
      "Epoch [5/10], Batch [101/469], Loss: -5444941.0000\n",
      "Epoch [5/10], Batch [201/469], Loss: -5764567.5000\n",
      "Epoch [5/10], Batch [301/469], Loss: -5530628.0000\n",
      "Epoch [5/10], Batch [401/469], Loss: -5472916.5000\n",
      "Epoch [5/10], Average Loss: -5513009.4995\n",
      "Epoch [6/10], Batch [1/469], Loss: -5793721.5000\n",
      "Epoch [6/10], Batch [101/469], Loss: -5745516.0000\n",
      "Epoch [6/10], Batch [201/469], Loss: -5925068.0000\n",
      "Epoch [6/10], Batch [301/469], Loss: -5903295.0000\n",
      "Epoch [6/10], Batch [401/469], Loss: -6324905.0000\n",
      "Epoch [6/10], Average Loss: -5875626.7313\n",
      "Epoch [7/10], Batch [1/469], Loss: -6136196.0000\n",
      "Epoch [7/10], Batch [101/469], Loss: -6026100.5000\n",
      "Epoch [7/10], Batch [201/469], Loss: -6322404.0000\n",
      "Epoch [7/10], Batch [301/469], Loss: -6179010.5000\n",
      "Epoch [7/10], Batch [401/469], Loss: -6149199.0000\n",
      "Epoch [7/10], Average Loss: -6141622.8156\n",
      "Epoch [8/10], Batch [1/469], Loss: -6273959.5000\n",
      "Epoch [8/10], Batch [101/469], Loss: -6407158.0000\n",
      "Epoch [8/10], Batch [201/469], Loss: -6533234.0000\n",
      "Epoch [8/10], Batch [301/469], Loss: -6462954.5000\n",
      "Epoch [8/10], Batch [401/469], Loss: -6334863.5000\n",
      "Epoch [8/10], Average Loss: -6369226.7356\n",
      "Epoch [9/10], Batch [1/469], Loss: -6296065.5000\n",
      "Epoch [9/10], Batch [101/469], Loss: -6429112.5000\n",
      "Epoch [9/10], Batch [201/469], Loss: -6596885.0000\n",
      "Epoch [9/10], Batch [301/469], Loss: -6565050.0000\n",
      "Epoch [9/10], Batch [401/469], Loss: -6765749.5000\n",
      "Epoch [9/10], Average Loss: -6554674.0064\n",
      "Epoch [10/10], Batch [1/469], Loss: -6568480.0000\n",
      "Epoch [10/10], Batch [101/469], Loss: -6412430.5000\n",
      "Epoch [10/10], Batch [201/469], Loss: -6501240.5000\n",
      "Epoch [10/10], Batch [301/469], Loss: -6757051.0000\n",
      "Epoch [10/10], Batch [401/469], Loss: -6925073.0000\n",
      "Epoch [10/10], Average Loss: -6695528.0896\n"
     ]
    }
   ],
   "source": [
    "\n",
    "\n",
    "class VAE(nn.Module):\n",
    "    def __init__(self, input_dim, hidden_dim, latent_dim):\n",
    "        super(VAE, self).__init__()\n",
    "        \n",
    "        # Encoder\n",
    "        self.fc1 = nn.Linear(input_dim, hidden_dim)\n",
    "        self.fc_mean = nn.Linear(hidden_dim, latent_dim)\n",
    "        self.fc_logvar = nn.Linear(hidden_dim, latent_dim)\n",
    "        \n",
    "        # Decoder\n",
    "        self.fc2 = nn.Linear(latent_dim, hidden_dim)\n",
    "        self.fc3 = nn.Linear(hidden_dim, input_dim)\n",
    "    \n",
    "    def encode(self, x):\n",
    "        hidden = F.relu(self.fc1(x))\n",
    "        mean = self.fc_mean(hidden)\n",
    "        logvar = self.fc_logvar(hidden)\n",
    "        return mean, logvar\n",
    "    \n",
    "    def reparameterize(self, mean, logvar):\n",
    "        std = torch.exp(0.5 * logvar)\n",
    "        epsilon = torch.randn_like(std)\n",
    "        z = mean + epsilon * std\n",
    "        return z\n",
    "    \n",
    "    def decode(self, z):\n",
    "        hidden = F.relu(self.fc2(z))\n",
    "        reconstructed = torch.sigmoid(self.fc3(hidden))\n",
    "        return reconstructed\n",
    "    \n",
    "    def forward(self, x):\n",
    "        mean, logvar = self.encode(x)\n",
    "        z = self.reparameterize(mean, logvar)\n",
    "        reconstructed = self.decode(z)\n",
    "        return reconstructed, mean, logvar\n",
    "\n",
    "def loss_function(reconstructed, x, mean, logvar):\n",
    "    # Reconstruction loss (binary cross-entropy)\n",
    "    reconstruction_loss = F.binary_cross_entropy(reconstructed, x, reduction='sum')\n",
    "    \n",
    "    # KL divergence loss\n",
    "    kl_loss = -0.5 * torch.sum(1 + logvar - mean.pow(2) - logvar.exp())\n",
    "    \n",
    "    # Total loss\n",
    "    total_loss = reconstruction_loss + kl_loss\n",
    "    return total_loss\n",
    "\n",
    "# Preprocess MNIST dataset\n",
    "transform = transforms.Compose([\n",
    "    transforms.ToTensor(),\n",
    "    transforms.Normalize((0.5,), (0.5,))\n",
    "])\n",
    "\n",
    "train_dataset = datasets.MNIST(root='./data', train=True, transform=transform, download=True)\n",
    "train_loader = torch.utils.data.DataLoader(train_dataset, batch_size=128, shuffle=True)\n",
    "\n",
    "# Example usage\n",
    "\n",
    "# Parameters\n",
    "input_dim = 784  # Dimension of input (28x28 pixels images in MNIST)\n",
    "hidden_dim = 256  # Hidden dimension of encoder and decoder\n",
    "latent_dim = 10  # Dimension of latent representation\n",
    "\n",
    "# Create the VAE model\n",
    "model = VAE(input_dim, hidden_dim, latent_dim)\n",
    "\n",
    "# Define the optimizer\n",
    "optimizer = optim.Adam(model.parameters(), lr=0.001)\n",
    "\n",
    "# Training\n",
    "def train(model, optimizer, num_epochs):\n",
    "    model.train()\n",
    "    for epoch in range(num_epochs):\n",
    "        train_loss = 0\n",
    "        for batch_idx, (data, _) in enumerate(train_loader):\n",
    "            # Prepare the data\n",
    "            data = data.view(-1, input_dim)\n",
    "            optimizer.zero_grad()\n",
    "            \n",
    "            # Forward pass\n",
    "            reconstructed, mean, logvar = model(data)\n",
    "            \n",
    "            # Calculate the loss\n",
    "            loss = loss_function(reconstructed, data, mean, logvar)\n",
    "            \n",
    "            # Backward pass and optimization\n",
    "            loss.backward()\n",
    "            train_loss += loss.item()\n",
    "            optimizer.step()\n",
    "            \n",
    "            # Print training information\n",
    "            if batch_idx % 100 == 0:\n",
    "                print('Epoch [{}/{}], Batch [{}/{}], Loss: {:.4f}'\n",
    "                      .format(epoch+1, num_epochs, batch_idx+1, len(train_loader), loss.item()))\n",
    "        \n",
    "        print('Epoch [{}/{}], Average Loss: {:.4f}'\n",
    "              .format(epoch+1, num_epochs, train_loss/len(train_loader)))\n",
    "\n",
    "# Call the training function\n",
    "num_epochs = 10\n",
    "train(model, optimizer, num_epochs)\n"
   ]
  },
  {
   "attachments": {},
   "cell_type": "markdown",
   "metadata": {},
   "source": [
    "# Test"
   ]
  },
  {
   "cell_type": "code",
   "execution_count": 8,
   "metadata": {},
   "outputs": [
    {
     "data": {
      "image/png": "[encoded data removed]",
      "text/plain": [
       "<Figure size 1500x300 with 10 Axes>"
      ]
     },
     "metadata": {},
     "output_type": "display_data"
    }
   ],
   "source": [
    "import matplotlib.pyplot as plt\n",
    "\n",
    "# Generate new samples\n",
    "def generate_samples(model, num_samples):\n",
    "    model.eval()\n",
    "    with torch.no_grad():\n",
    "        z = torch.randn(num_samples, latent_dim)\n",
    "        generated_samples = model.decode(z)\n",
    "    return generated_samples\n",
    "\n",
    "# Generate and display new samples\n",
    "num_samples = 10\n",
    "generated_samples = generate_samples(model, num_samples)\n",
    "\n",
    "# Reshape and denormalize the generated samples\n",
    "generated_samples = generated_samples.view(-1, 28, 28)\n",
    "generated_samples = (generated_samples * 0.5) + 0.5  # Denormalize\n",
    "\n",
    "# Plot the generated samples\n",
    "fig, axes = plt.subplots(1, num_samples, figsize=(15, 3))\n",
    "for i in range(num_samples):\n",
    "    axes[i].imshow(generated_samples[i].cpu().numpy(), cmap='gray')\n",
    "    axes[i].axis('off')\n",
    "plt.show()\n"
   ]
  },
  {
   "attachments": {},
   "cell_type": "markdown",
   "metadata": {},
   "source": [
    "# generated dimages"
   ]
  }
 ],
 "metadata": {
  "kernelspec": {
   "display_name": "base",
   "language": "python",
   "name": "python3"
  },
  "language_info": {
   "codemirror_mode": {
    "name": "ipython",
    "version": 3
   },
   "file_extension": ".py",
   "mimetype": "text/x-python",
   "name": "python",
   "nbconvert_exporter": "python",
   "pygments_lexer": "ipython3",
   "version": "3.9.13"
  },
  "orig_nbformat": 4
 },
 "nbformat": 4,
 "nbformat_minor": 2
}
