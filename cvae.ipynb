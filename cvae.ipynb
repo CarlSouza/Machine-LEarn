{
 "cells": [
  {
   "cell_type": "code",
   "execution_count": 1,
   "metadata": {},
   "outputs": [
    {
     "name": "stdout",
     "output_type": "stream",
     "text": [
      "Using device: cuda\n"
     ]
    }
   ],
   "source": [
    "import torch\n",
    "import torch.nn as nn\n",
    "import torch.optim as optim\n",
    "import torch.nn.functional as F\n",
    "from torchvision import datasets, transforms\n",
    "\n",
    "# Verifique se CUDA está disponível\n",
    "device = torch.device(\"cuda\" if torch.cuda.is_available() else \"cpu\")\n",
    "print(\"Using device:\", device)"
   ]
  },
  {
   "cell_type": "code",
   "execution_count": 2,
   "metadata": {},
   "outputs": [
    {
     "name": "stdout",
     "output_type": "stream",
     "text": [
      "Downloading http://fashion-mnist.s3-website.eu-central-1.amazonaws.com/train-images-idx3-ubyte.gz\n",
      "Downloading http://fashion-mnist.s3-website.eu-central-1.amazonaws.com/train-images-idx3-ubyte.gz to ./data\\FashionMNIST\\raw\\train-images-idx3-ubyte.gz\n"
     ]
    },
    {
     "name": "stderr",
     "output_type": "stream",
     "text": [
      "100%|██████████| 26421880/26421880 [00:04<00:00, 6469820.32it/s] \n"
     ]
    },
    {
     "name": "stdout",
     "output_type": "stream",
     "text": [
      "Extracting ./data\\FashionMNIST\\raw\\train-images-idx3-ubyte.gz to ./data\\FashionMNIST\\raw\n",
      "\n",
      "Downloading http://fashion-mnist.s3-website.eu-central-1.amazonaws.com/train-labels-idx1-ubyte.gz\n",
      "Downloading http://fashion-mnist.s3-website.eu-central-1.amazonaws.com/train-labels-idx1-ubyte.gz to ./data\\FashionMNIST\\raw\\train-labels-idx1-ubyte.gz\n"
     ]
    },
    {
     "name": "stderr",
     "output_type": "stream",
     "text": [
      "100%|██████████| 29515/29515 [00:00<00:00, 189312.26it/s]\n"
     ]
    },
    {
     "name": "stdout",
     "output_type": "stream",
     "text": [
      "Extracting ./data\\FashionMNIST\\raw\\train-labels-idx1-ubyte.gz to ./data\\FashionMNIST\\raw\n",
      "\n",
      "Downloading http://fashion-mnist.s3-website.eu-central-1.amazonaws.com/t10k-images-idx3-ubyte.gz\n",
      "Downloading http://fashion-mnist.s3-website.eu-central-1.amazonaws.com/t10k-images-idx3-ubyte.gz to ./data\\FashionMNIST\\raw\\t10k-images-idx3-ubyte.gz\n"
     ]
    },
    {
     "name": "stderr",
     "output_type": "stream",
     "text": [
      "100%|██████████| 4422102/4422102 [00:01<00:00, 2744422.29it/s]\n"
     ]
    },
    {
     "name": "stdout",
     "output_type": "stream",
     "text": [
      "Extracting ./data\\FashionMNIST\\raw\\t10k-images-idx3-ubyte.gz to ./data\\FashionMNIST\\raw\n",
      "\n",
      "Downloading http://fashion-mnist.s3-website.eu-central-1.amazonaws.com/t10k-labels-idx1-ubyte.gz\n",
      "Downloading http://fashion-mnist.s3-website.eu-central-1.amazonaws.com/t10k-labels-idx1-ubyte.gz to ./data\\FashionMNIST\\raw\\t10k-labels-idx1-ubyte.gz\n"
     ]
    },
    {
     "name": "stderr",
     "output_type": "stream",
     "text": [
      "100%|██████████| 5148/5148 [00:00<00:00, 5094921.42it/s]"
     ]
    },
    {
     "name": "stdout",
     "output_type": "stream",
     "text": [
      "Extracting ./data\\FashionMNIST\\raw\\t10k-labels-idx1-ubyte.gz to ./data\\FashionMNIST\\raw\n",
      "\n"
     ]
    },
    {
     "name": "stderr",
     "output_type": "stream",
     "text": [
      "\n"
     ]
    }
   ],
   "source": [
    "# Preprocessamento do MNIST\n",
    "transform = transforms.Compose([\n",
    "    transforms.ToTensor()\n",
    "])\n",
    "\n",
    "train_dataset = datasets.FashionMNIST(root='./data', train=True, transform=transform, download=True)\n",
    "train_loader = torch.utils.data.DataLoader(train_dataset, batch_size=128, shuffle=True)\n",
    "\n",
    "# Alguns hiperparâmetros\n",
    "input_dim = 784  # Imagens 28x28 serão representadas por um array de 784 entradas\n",
    "label_dim = 10  # Número de labels possíveis (de 0 a 9)\n",
    "\n",
    "hidden_dim_encoder = 784\n",
    "hidden_dim_decoder = 64   # Diminuímos a dimensão dos dados no decoder\n",
    "# caso queiramos que o encoder \"capture\" mais features, seria interessante aumentar seu hidden_dim\n",
    "# o mesmo vale para o decoder, onde poderiamos buscar \"gerar\" mais complexidade ao modelo\n",
    "latent_dim = 10  # dimensão de representação latente"
   ]
  },
  {
   "cell_type": "code",
   "execution_count": 79,
   "metadata": {},
   "outputs": [],
   "source": [
    "import numpy as np"
   ]
  },
  {
   "cell_type": "code",
   "execution_count": 203,
   "metadata": {},
   "outputs": [
    {
     "name": "stderr",
     "output_type": "stream",
     "text": [
      "C:\\Users\\atoma\\AppData\\Local\\Temp\\ipykernel_20308\\831954225.py:77: DeprecationWarning: `product` is deprecated as of NumPy 1.25.0, and will be removed in NumPy 2.0. Please use `prod` instead.\n",
      "  model = CVAE(input_dim, label_dim, hidden_dim_encoder, hidden_dim_decoder, latent_dim)\n"
     ]
    }
   ],
   "source": [
    "class CVAE(nn.Module):\n",
    "    def __init__(self, input_dim, label_dim, hidden_dim_encoder, hidden_dim_decoder, latent_dim):\n",
    "        super(CVAE, self).__init__()\n",
    "\n",
    "        # Encoder\n",
    "        hid_channels = 16\n",
    "        kernel_size = 4\n",
    "\n",
    "        self.conv1 = nn.Conv2d(1, hid_channels, kernel_size, stride=2, padding=1)\n",
    "        self.conv2 = nn.Conv2d(hid_channels, hid_channels * 2, kernel_size, stride=2, padding=1)\n",
    "        self.fc1 = nn.Linear(hid_channels * 2 * 7 * 7 + label_dim, hidden_dim_encoder)\n",
    "        self.fc_mean = nn.Linear(hidden_dim_encoder, latent_dim)\n",
    "        self.fc_logvar = nn.Linear(hidden_dim_encoder, latent_dim)\n",
    "        \n",
    "        # Decoder\n",
    "        self.img_size = 28*28\n",
    "        hidden_dim_decoder = 256\n",
    "        self.reshape = (hid_channels, 7, 7)  # adjusted to reflect smaller image size\n",
    "\n",
    "        self.lin1 = nn.Linear(latent_dim + label_dim, hidden_dim_decoder)\n",
    "        self.lin2 = nn.Linear(hidden_dim_decoder, hidden_dim_decoder)\n",
    "        self.lin3 = nn.Linear(hidden_dim_decoder, np.product(self.reshape))\n",
    "\n",
    "        cnn_kwargs = dict(stride=2, padding=1)\n",
    "        self.convT1 = nn.ConvTranspose2d(hid_channels, hid_channels, kernel_size, **cnn_kwargs)\n",
    "        self.convT2 = nn.ConvTranspose2d(hid_channels, 1, kernel_size, **cnn_kwargs)\n",
    "\n",
    "    def encode(self, x, y):\n",
    "        x = F.relu(self.conv1(x))\n",
    "        x = F.relu(self.conv2(x))\n",
    "        x = x.view(x.size(0), -1)\n",
    "        input = torch.cat((x, y), dim=1) \n",
    "        hidden = F.relu(self.fc1(input))\n",
    "        mean = self.fc_mean(hidden)\n",
    "        logvar = self.fc_logvar(hidden)\n",
    "        return mean, logvar\n",
    "\n",
    "    def reparametrize(self, mean, logvar):\n",
    "        std = torch.exp(0.5 * logvar)\n",
    "        epsilon = torch.randn_like(std)\n",
    "        z = mean + epsilon * std\n",
    "        return z\n",
    "\n",
    "    def decode(self, z, y):\n",
    "        batch_size = z.size(0)\n",
    "        input = torch.cat((z, y), dim=1)\n",
    "\n",
    "        # Fully connected layers with ReLu activations\n",
    "        x = F.relu(self.lin1(input))\n",
    "        x = F.relu(self.lin2(x))\n",
    "        x = F.relu(self.lin3(x))\n",
    "        x = x.view(batch_size, *self.reshape)\n",
    "\n",
    "        # Convolutional layers with ReLu activations\n",
    "        x = F.relu(self.convT1(x))\n",
    "\n",
    "        # Sigmoid activation for final conv layer\n",
    "        x = torch.sigmoid(self.convT2(x))\n",
    "        return x\n",
    "\n",
    "    def forward(self, x, y):\n",
    "        mean, logvar = self.encode(x, y)\n",
    "        z = self.reparametrize(mean, logvar)\n",
    "        reconstructed = self.decode(z, y)\n",
    "        return reconstructed, mean, logvar\n",
    "\n",
    "def loss_function(reconstructed, x, mean, logvar, beta=0.5):\n",
    "    # loss (binary cross-entropy)\n",
    "    reconstruction_loss = F.binary_cross_entropy(reconstructed.view(-1, input_dim), x.view(-1, input_dim), reduction='sum')\n",
    "    \n",
    "    # loss (KL divergence)\n",
    "    kl_loss = -0.5 * torch.sum(1 + logvar - mean.pow(2) - logvar.exp())\n",
    "    \n",
    "    total_loss = reconstruction_loss + beta * kl_loss\n",
    "    return total_loss\n",
    "\n",
    "model = CVAE(input_dim, label_dim, hidden_dim_encoder, hidden_dim_decoder, latent_dim)\n",
    "model = model.to(device)\n",
    "\n",
    "# podemos mudar o otimizador também / adicionamos weight_decay para implementar regularização L2\n",
    "optimizer = optim.Adam(model.parameters(), lr=0.001, weight_decay=1e-2)"
   ]
  },
  {
   "cell_type": "code",
   "execution_count": 204,
   "metadata": {},
   "outputs": [
    {
     "name": "stdout",
     "output_type": "stream",
     "text": [
      "Epoch [1/10], Batch [1/469], Loss: 73364.0000\n",
      "Epoch [1/10], Batch [101/469], Loss: 40500.8828\n",
      "Epoch [1/10], Batch [201/469], Loss: 35609.4180\n",
      "Epoch [1/10], Batch [301/469], Loss: 32124.9590\n",
      "Epoch [1/10], Batch [401/469], Loss: 32724.8730\n",
      "Epoch [1/10], Average Loss: 37659.3652\n",
      "Epoch [2/10], Batch [1/469], Loss: 33692.4922\n",
      "Epoch [2/10], Batch [101/469], Loss: 31830.0156\n",
      "Epoch [2/10], Batch [201/469], Loss: 31807.4707\n",
      "Epoch [2/10], Batch [301/469], Loss: 31819.3066\n",
      "Epoch [2/10], Batch [401/469], Loss: 30838.7480\n",
      "Epoch [2/10], Average Loss: 31678.7762\n",
      "Epoch [3/10], Batch [1/469], Loss: 31577.0957\n",
      "Epoch [3/10], Batch [101/469], Loss: 30605.3652\n",
      "Epoch [3/10], Batch [201/469], Loss: 30091.2070\n",
      "Epoch [3/10], Batch [301/469], Loss: 31669.5352\n",
      "Epoch [3/10], Batch [401/469], Loss: 30443.5254\n",
      "Epoch [3/10], Average Loss: 30907.7212\n",
      "Epoch [4/10], Batch [1/469], Loss: 30699.4355\n",
      "Epoch [4/10], Batch [101/469], Loss: 29692.1816\n",
      "Epoch [4/10], Batch [201/469], Loss: 30305.6934\n",
      "Epoch [4/10], Batch [301/469], Loss: 28212.9492\n",
      "Epoch [4/10], Batch [401/469], Loss: 30093.1133\n",
      "Epoch [4/10], Average Loss: 30575.6414\n",
      "Epoch [5/10], Batch [1/469], Loss: 29976.8887\n",
      "Epoch [5/10], Batch [101/469], Loss: 29384.9727\n",
      "Epoch [5/10], Batch [201/469], Loss: 30596.3301\n",
      "Epoch [5/10], Batch [301/469], Loss: 29654.6074\n",
      "Epoch [5/10], Batch [401/469], Loss: 30268.9297\n",
      "Epoch [5/10], Average Loss: 30330.3731\n",
      "Epoch [6/10], Batch [1/469], Loss: 29691.8379\n",
      "Epoch [6/10], Batch [101/469], Loss: 30431.7402\n",
      "Epoch [6/10], Batch [201/469], Loss: 28790.5703\n",
      "Epoch [6/10], Batch [301/469], Loss: 28667.3594\n",
      "Epoch [6/10], Batch [401/469], Loss: 31106.2129\n",
      "Epoch [6/10], Average Loss: 30158.7738\n",
      "Epoch [7/10], Batch [1/469], Loss: 30487.6250\n",
      "Epoch [7/10], Batch [101/469], Loss: 30718.0254\n",
      "Epoch [7/10], Batch [201/469], Loss: 31134.8672\n",
      "Epoch [7/10], Batch [301/469], Loss: 29570.1719\n",
      "Epoch [7/10], Batch [401/469], Loss: 30751.6465\n",
      "Epoch [7/10], Average Loss: 30033.3940\n",
      "Epoch [8/10], Batch [1/469], Loss: 30156.6309\n",
      "Epoch [8/10], Batch [101/469], Loss: 29995.4199\n",
      "Epoch [8/10], Batch [201/469], Loss: 29463.6230\n",
      "Epoch [8/10], Batch [301/469], Loss: 30695.8320\n",
      "Epoch [8/10], Batch [401/469], Loss: 28913.7852\n",
      "Epoch [8/10], Average Loss: 29925.4989\n",
      "Epoch [9/10], Batch [1/469], Loss: 31166.1387\n",
      "Epoch [9/10], Batch [101/469], Loss: 30120.3008\n",
      "Epoch [9/10], Batch [201/469], Loss: 31164.2910\n",
      "Epoch [9/10], Batch [301/469], Loss: 28525.9492\n",
      "Epoch [9/10], Batch [401/469], Loss: 31074.0332\n",
      "Epoch [9/10], Average Loss: 29839.4928\n",
      "Epoch [10/10], Batch [1/469], Loss: 31736.2715\n",
      "Epoch [10/10], Batch [101/469], Loss: 29793.3652\n",
      "Epoch [10/10], Batch [201/469], Loss: 29138.3945\n",
      "Epoch [10/10], Batch [301/469], Loss: 30637.8887\n",
      "Epoch [10/10], Batch [401/469], Loss: 29329.3789\n",
      "Epoch [10/10], Average Loss: 29769.2588\n"
     ]
    }
   ],
   "source": [
    "def train(model, optimizer, num_epochs):\n",
    "    model.train()\n",
    "    for epoch in range(num_epochs):\n",
    "        train_loss = 0\n",
    "        for batch_idx, (data, labels) in enumerate(train_loader):\n",
    "            data = data.to(device)\n",
    "            labels = F.one_hot(labels, num_classes=10).type(torch.float).to(device)\n",
    "            optimizer.zero_grad()\n",
    "            \n",
    "            reconstructed, mean, logvar = model(data, labels)\n",
    "            \n",
    "            loss = loss_function(reconstructed, data.view(-1, input_dim), mean, logvar)\n",
    "            \n",
    "            loss.backward()\n",
    "            train_loss += loss.item()\n",
    "            optimizer.step()\n",
    "            \n",
    "            # Print training information\n",
    "            if batch_idx % 100 == 0:\n",
    "                print('Epoch [{}/{}], Batch [{}/{}], Loss: {:.4f}'\n",
    "                      .format(epoch+1, num_epochs, batch_idx+1, len(train_loader), loss.item()))\n",
    "        \n",
    "        print('Epoch [{}/{}], Average Loss: {:.4f}'\n",
    "              .format(epoch+1, num_epochs, train_loss/len(train_loader)))\n",
    "\n",
    "num_epochs = 10\n",
    "train(model, optimizer, num_epochs)"
   ]
  },
  {
   "cell_type": "code",
   "execution_count": 209,
   "metadata": {},
   "outputs": [
    {
     "name": "stdout",
     "output_type": "stream",
     "text": [
      "Imagens de: Sneaker\n"
     ]
    },
    {
     "data": {
      "image/png": "[encoded data removed]",
      "text/plain": [
       "<Figure size 1500x300 with 10 Axes>"
      ]
     },
     "metadata": {},
     "output_type": "display_data"
    }
   ],
   "source": [
    "\n",
    "import matplotlib.pyplot as plt\n",
    "\n",
    "# geraçao de novas amostras\n",
    "def generate_samples(model, num_samples, label):\n",
    "    model.eval()\n",
    "    with torch.no_grad():\n",
    "        z = torch.randn(num_samples, latent_dim).to(device)\n",
    "        y = torch.zeros(num_samples, label_dim).to(device)\n",
    "        y[:, label] = 1\n",
    "        generated_samples = model.decode(z, y)\n",
    "\n",
    "    clothing_map = {\n",
    "        0: 'T-shirt/top',\n",
    "        1: 'Trouser',\n",
    "        2: 'Pullover',\n",
    "        3: 'Dress',\n",
    "        4: 'Coat',\n",
    "        5: 'Sandal',\n",
    "        6: 'Shirt',\n",
    "        7: 'Sneaker',\n",
    "        8: 'Bag',\n",
    "        9: 'Ankle boot'\n",
    "    }\n",
    "    \n",
    "    print(f'Imagens de: {clothing_map[label]}')\n",
    "    return generated_samples\n",
    "\n",
    "num_samples = 10\n",
    "generated_samples = generate_samples(model, num_samples, 7)\n",
    "\n",
    "generated_samples = generated_samples.view(-1, 28, 28)\n",
    "\n",
    "fig, axes = plt.subplots(1, num_samples, figsize=(15, 3))\n",
    "for i in range(num_samples):\n",
    "    axes[i].imshow(generated_samples[i].cpu().numpy(), cmap='gray')\n",
    "    axes[i].axis('off')\n",
    "plt.show()"
   ]
  }
 ],
 "metadata": {
  "kernelspec": {
   "display_name": "base",
   "language": "python",
   "name": "python3"
  },
  "language_info": {
   "codemirror_mode": {
    "name": "ipython",
    "version": 3
   },
   "file_extension": ".py",
   "mimetype": "text/x-python",
   "name": "python",
   "nbconvert_exporter": "python",
   "pygments_lexer": "ipython3",
   "version": "3.9.16"
  },
  "orig_nbformat": 4
 },
 "nbformat": 4,
 "nbformat_minor": 2
}
